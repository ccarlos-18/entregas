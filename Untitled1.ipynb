{
  "nbformat": 4,
  "nbformat_minor": 0,
  "metadata": {
    "colab": {
      "provenance": [],
      "authorship_tag": "ABX9TyOmCpSUGMIVHL+F6L2afvXp",
      "include_colab_link": true
    },
    "kernelspec": {
      "name": "python3",
      "display_name": "Python 3"
    },
    "language_info": {
      "name": "python"
    }
  },
  "cells": [
    {
      "cell_type": "markdown",
      "metadata": {
        "id": "view-in-github",
        "colab_type": "text"
      },
      "source": [
        "<a href=\"https://colab.research.google.com/github/ccarlos-18/entregas/blob/main/Untitled1.ipynb\" target=\"_parent\"><img src=\"https://colab.research.google.com/assets/colab-badge.svg\" alt=\"Open In Colab\"/></a>"
      ]
    },
    {
      "cell_type": "markdown",
      "source": [
        "EJERCICIO 2  000525292  CARLOS CASTELLANOS "
      ],
      "metadata": {
        "id": "du-MvzF5Ln9T"
      }
    },
    {
      "cell_type": "code",
      "execution_count": 37,
      "metadata": {
        "id": "ijLNBicCLH_H",
        "colab": {
          "base_uri": "https://localhost:8080/"
        },
        "outputId": "31e30432-bad8-4b72-ac02-85a300f0e434"
      },
      "outputs": [
        {
          "output_type": "stream",
          "name": "stdout",
          "text": [
            "5.0\n",
            "105.0\n"
          ]
        }
      ],
      "source": [
        "T_1 = 0\n",
        "T_2 = 5\n",
        "X_0 = 3\n",
        "V_0 = 5\n",
        "A = 6\n",
        "C =1/2 \n",
        "X_1 = V_0 + V_0*T_1 + C*A*T_1**2\n",
        "X_2 = V_0 + V_0*T_2 + C*A*T_2**2\n",
        "print(X_1)\n",
        "print(X_2)"
      ]
    },
    {
      "cell_type": "markdown",
      "source": [],
      "metadata": {
        "id": "mO7KGc7HLjyy"
      }
    },
    {
      "cell_type": "markdown",
      "source": [
        "ejercicio 3\n"
      ],
      "metadata": {
        "id": "Its6symI5dkv"
      }
    },
    {
      "cell_type": "code",
      "source": [],
      "metadata": {
        "id": "iHHLyC4x_GtB"
      },
      "execution_count": null,
      "outputs": []
    },
    {
      "cell_type": "code",
      "source": [
        "A = 5\n",
        "B = 2\n",
        "C = 3\n",
        "D = -2\n",
        "A < B \n",
        "B <= C\n",
        "A = B + A > C\n",
        "A < C + B < C\n",
        "A != B\n",
        "A + D < C\n",
        "D - C >= - A * B\n",
        "D * C == 5 * A > 9\n",
        "A * B + C > - D * 10\n",
        "4 * B == C * 3\n",
        "print(B + A)\n",
        "print(C + B)\n",
        "print(A +D)\n",
        "print(D - C)\n",
        "print(D * C)\n",
        "print(A * B)\n",
        "print(4 * B)\n"
      ],
      "metadata": {
        "colab": {
          "base_uri": "https://localhost:8080/"
        },
        "id": "mWgRKuBp0TpE",
        "outputId": "2b61b4d4-a5b3-42ff-ee4d-4683da7bf220"
      },
      "execution_count": 6,
      "outputs": [
        {
          "output_type": "stream",
          "name": "stdout",
          "text": [
            "3\n",
            "5\n",
            "-1\n",
            "-5\n",
            "-6\n",
            "2\n",
            "8\n"
          ]
        }
      ]
    }
  ]
}